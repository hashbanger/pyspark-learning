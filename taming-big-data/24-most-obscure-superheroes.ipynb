{
 "cells": [
  {
   "cell_type": "code",
   "execution_count": 2,
   "metadata": {},
   "outputs": [],
   "source": [
    "from pyspark.sql import SparkSession\n",
    "from pyspark.sql import functions as func\n",
    "from pyspark.sql.types import StructType, StructField, IntegerType, StringType"
   ]
  },
  {
   "cell_type": "code",
   "execution_count": 3,
   "metadata": {},
   "outputs": [
    {
     "name": "stderr",
     "output_type": "stream",
     "text": [
      "Using Spark's default log4j profile: org/apache/spark/log4j-defaults.properties\n",
      "Setting default log level to \"WARN\".\n",
      "To adjust logging level use sc.setLogLevel(newLevel). For SparkR, use setLogLevel(newLevel).\n",
      "22/02/03 20:57:14 WARN NativeCodeLoader: Unable to load native-hadoop library for your platform... using builtin-java classes where applicable\n"
     ]
    }
   ],
   "source": [
    "spark = SparkSession.builder.appName(\"MostObscureSuperheroes\").getOrCreate()"
   ]
  },
  {
   "cell_type": "code",
   "execution_count": 4,
   "metadata": {},
   "outputs": [],
   "source": [
    "schema = StructType([ \\\n",
    "                     StructField(\"id\", IntegerType(), True), \\\n",
    "                     StructField(\"name\", StringType(), True)])"
   ]
  },
  {
   "cell_type": "code",
   "execution_count": 5,
   "metadata": {},
   "outputs": [],
   "source": [
    "names = spark.read.schema(schema).option(\"sep\", \" \").csv(\"resources/Marvel-Names\")"
   ]
  },
  {
   "cell_type": "code",
   "execution_count": 6,
   "metadata": {},
   "outputs": [],
   "source": [
    "lines = spark.read.text(\"resources/Marvel-Graph\")"
   ]
  },
  {
   "cell_type": "code",
   "execution_count": 9,
   "metadata": {},
   "outputs": [],
   "source": [
    "connections = lines.withColumn(\"id\", func.split(func.trim(func.col(\"value\")), \" \")[0]) \\\n",
    "    .withColumn(\"connections\", func.size(func.split(func.trim(func.col(\"value\")), \" \")) - 1) \\\n",
    "        .groupBy(\"id\").agg(func.sum(\"connections\").alias(\"connections\"))"
   ]
  },
  {
   "cell_type": "code",
   "execution_count": 19,
   "metadata": {},
   "outputs": [],
   "source": [
    "minConnectionCount = connections.agg(func.min(\"connections\")).first()[0]"
   ]
  },
  {
   "cell_type": "code",
   "execution_count": 20,
   "metadata": {},
   "outputs": [],
   "source": [
    "minConnections = connections.filter(func.col(\"connections\") == minConnectionCount)"
   ]
  },
  {
   "cell_type": "code",
   "execution_count": 21,
   "metadata": {},
   "outputs": [],
   "source": [
    "minConnectionsWithNames = minConnections.join(names, \"id\")"
   ]
  },
  {
   "cell_type": "code",
   "execution_count": 22,
   "metadata": {},
   "outputs": [
    {
     "name": "stdout",
     "output_type": "stream",
     "text": [
      "The following charaters have only 0 connection(s):\n"
     ]
    }
   ],
   "source": [
    "print(\"The following charaters have only \" + str(minConnectionCount) + \" connection(s):\")"
   ]
  },
  {
   "cell_type": "code",
   "execution_count": 23,
   "metadata": {},
   "outputs": [
    {
     "name": "stderr",
     "output_type": "stream",
     "text": [
      "                                                                                \r"
     ]
    },
    {
     "name": "stdout",
     "output_type": "stream",
     "text": [
      "+--------------------+\n",
      "|                name|\n",
      "+--------------------+\n",
      "|        BERSERKER II|\n",
      "|              BLARE/|\n",
      "|MARVEL BOY II/MARTIN|\n",
      "|MARVEL BOY/MARTIN BU|\n",
      "|      GIURESCU, RADU|\n",
      "|       CLUMSY FOULUP|\n",
      "|              FENRIS|\n",
      "|              RANDAK|\n",
      "|           SHARKSKIN|\n",
      "|     CALLAHAN, DANNY|\n",
      "|         DEATHCHARGE|\n",
      "|                RUNE|\n",
      "|         SEA LEOPARD|\n",
      "|         RED WOLF II|\n",
      "|              ZANTOR|\n",
      "|JOHNSON, LYNDON BAIN|\n",
      "|          LUNATIK II|\n",
      "|                KULL|\n",
      "|GERVASE, LADY ALYSSA|\n",
      "+--------------------+\n",
      "\n"
     ]
    }
   ],
   "source": [
    "minConnectionsWithNames.select(\"name\").show()"
   ]
  }
 ],
 "metadata": {
  "interpreter": {
   "hash": "ecac7a151c09b8456edd2abfdaf540e09fdadf88940418019d9e70d1d7653a93"
  },
  "kernelspec": {
   "display_name": "Python 3.9.10 64-bit ('spark_test-8u_MymxW': pipenv)",
   "language": "python",
   "name": "python3"
  },
  "language_info": {
   "codemirror_mode": {
    "name": "ipython",
    "version": 3
   },
   "file_extension": ".py",
   "mimetype": "text/x-python",
   "name": "python",
   "nbconvert_exporter": "python",
   "pygments_lexer": "ipython3",
   "version": "3.9.10"
  },
  "orig_nbformat": 4
 },
 "nbformat": 4,
 "nbformat_minor": 2
}
