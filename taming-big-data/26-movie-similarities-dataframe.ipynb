{
 "cells": [
  {
   "cell_type": "code",
   "execution_count": 1,
   "metadata": {},
   "outputs": [],
   "source": [
    "from pyspark.sql import SparkSession\n",
    "from pyspark.sql import functions as func\n",
    "from pyspark.sql.types import StructType, StructField, StringType, IntegerType, LongType\n",
    "import sys"
   ]
  },
  {
   "cell_type": "code",
   "execution_count": 45,
   "metadata": {},
   "outputs": [],
   "source": [
    "def computeCosineSimilarity(spark, data):\n",
    "    # Compute xx, xy and yy columns\n",
    "    pairScores = data \\\n",
    "        .withColumn(\"xx\", func.col(\"rating1\") * func.col(\"rating1\")) \\\n",
    "        .withColumn(\"yy\", func.col(\"rating2\") * func.col(\"rating2\")) \\\n",
    "        .withColumn(\"xy\", func.col(\"rating1\") * func.col(\"rating2\")) \\\n",
    "    \n",
    "    # Compute numerator, denominator and numPairs columns\n",
    "    calculateSimilarity = pairScores \\\n",
    "        .groupby(\"movie1\", \"movie2\") \\\n",
    "            .agg( \\\n",
    "                func.sum(func.col(\"xy\")).alias(\"numerator\"), \\\n",
    "                    (func.sqrt(func.sum(func.col(\"xx\"))) * func.sqrt(func.sum(func.col(\"yy\")))).alias(\"denominator\"), \\\n",
    "                        func.count(func.col(\"xy\")).alias(\"numPairs\")  \n",
    "            )\n",
    "    \n",
    "    # Calculate score and select only needed columns (movie1, movie2, score, numPairs)\n",
    "    result = calculateSimilarity \\\n",
    "        .withColumn(\"score\", \\\n",
    "            func.when(func.col(\"denominator\") != 0, func.col(\"numerator\") / func.col(\"denominator\")) \n",
    "            .otherwise(0) \\\n",
    "            ).select(\"movie1\", \"movie2\", \"score\", \"numPairs\")\n",
    "    \n",
    "    return result"
   ]
  },
  {
   "cell_type": "code",
   "execution_count": 3,
   "metadata": {},
   "outputs": [],
   "source": [
    "# Get movie name by given movie id\n",
    "def getMovieName(movieNames, movieId):\n",
    "    result = movieNames.filter(func.col(\"movieID\") == movieId) \\\n",
    "        .select(\"movieTitle\").collect()[0]\n",
    "    \n",
    "    return result[0]"
   ]
  },
  {
   "cell_type": "code",
   "execution_count": 4,
   "metadata": {},
   "outputs": [
    {
     "name": "stderr",
     "output_type": "stream",
     "text": [
      "Using Spark's default log4j profile: org/apache/spark/log4j-defaults.properties\n",
      "Setting default log level to \"WARN\".\n",
      "To adjust logging level use sc.setLogLevel(newLevel). For SparkR, use setLogLevel(newLevel).\n",
      "22/02/13 13:58:39 WARN NativeCodeLoader: Unable to load native-hadoop library for your platform... using builtin-java classes where applicable\n"
     ]
    }
   ],
   "source": [
    "spark = SparkSession.builder.appName(\"MovieSimilarities\").master(\"local[*]\").getOrCreate()"
   ]
  },
  {
   "cell_type": "code",
   "execution_count": 5,
   "metadata": {},
   "outputs": [],
   "source": [
    "movieNamesSchema = StructType([\n",
    "    StructField(\"movieID\", IntegerType(), True), \\\n",
    "    StructField(\"movieTitle\", StringType(), True) \\\n",
    "])\n",
    "\n",
    "moviesSchema = StructType([\n",
    "    StructField(\"userID\", IntegerType(), True), \\\n",
    "    StructField(\"movieID\", IntegerType(), True), \\\n",
    "    StructField(\"rating\", IntegerType(), True), \\\n",
    "    StructField(\"timestamp\", LongType(), True)\n",
    "])"
   ]
  },
  {
   "cell_type": "code",
   "execution_count": 11,
   "metadata": {},
   "outputs": [],
   "source": [
    "# Creating a broadcast dataset of movieID and movieTitle\n",
    "moviesNames = spark.read.option(\"sep\", \"|\").option(\"charset\", \"ISO-8859-1\").schema(movieNamesSchema).csv(\"resources/ml-100k/u.item\")\n",
    "\n",
    "# Load up movie data as dataset\n",
    "movies = spark.read.option(\"sep\", \"\\t\").schema(moviesSchema).csv(\"resources/ml-100k/u.data\")\n"
   ]
  },
  {
   "cell_type": "code",
   "execution_count": 14,
   "metadata": {},
   "outputs": [],
   "source": [
    "ratings = movies.select(\"userId\", \"movieId\", \"rating\")"
   ]
  },
  {
   "cell_type": "code",
   "execution_count": 40,
   "metadata": {},
   "outputs": [],
   "source": [
    "# Emitting every movie rated together by the same user.\n",
    "# Self-join to find every combination.\n",
    "# Select movie pairs and rating pairs\n",
    "moviePairs = ratings.alias(\"ratings1\") \\\n",
    "    .join(ratings.alias(\"ratings2\"), \n",
    "    (func.col(\"ratings1.userId\") == func.col(\"ratings2.userId\")) &\n",
    "    (func.col(\"ratings1.movieId\") < func.col(\"ratings2.movieId\"))\n",
    "    ) \\\n",
    "        .select(func.col(\"ratings1.movieId\").alias(\"movie1\"), \\\n",
    "            func.col(\"ratings2.movieId\").alias(\"movie2\"), \\\n",
    "            func.col(\"ratings1.rating\").alias(\"rating1\"), \\\n",
    "            func.col(\"ratings2.rating\").alias(\"rating2\"))\n",
    "    "
   ]
  },
  {
   "cell_type": "code",
   "execution_count": 39,
   "metadata": {},
   "outputs": [],
   "source": [
    "# import pandas as pd\n",
    "# df = pd.read_csv(\"resources/ml-100k/u.data\", sep=\"\\t\", header=0, names=[\"userID\", \"movieID\", \"rating\", \"timestamp\"])\n",
    "# df = df.merge(df, on=\"userID\", how=\"inner\")\n",
    "# df[df[\"movieID_x\"] < df[\"movieID_y\"]]"
   ]
  },
  {
   "cell_type": "code",
   "execution_count": 46,
   "metadata": {},
   "outputs": [],
   "source": [
    "moviePairSimilarities = computeCosineSimilarity(spark, moviePairs).cache()"
   ]
  },
  {
   "cell_type": "code",
   "execution_count": 69,
   "metadata": {},
   "outputs": [
    {
     "name": "stderr",
     "output_type": "stream",
     "text": [
      "                                                                                \r"
     ]
    },
    {
     "name": "stdout",
     "output_type": "stream",
     "text": [
      "Top 10 Similar movie for Return of the Jedi (1983)\n",
      "Empire Strikes Back, The (1980)\tscore: 0.9872106138566691\tstrength: 317\n",
      "Star Wars (1977)\tscore: 0.9857230861253026\tstrength: 480\n",
      "Raiders of the Lost Ark (1981)\tscore: 0.9756955197948429\tstrength: 342\n",
      "Wallace & Gromit: The Best of Aardman Animation (1996)\tscore: 0.9746282945069386\tstrength: 58\n",
      "Glory (1989)\tscore: 0.9734820301402775\tstrength: 145\n",
      "Some Kind of Wonderful (1987)\tscore: 0.9718583446658893\tstrength: 51\n",
      "Indiana Jones and the Last Crusade (1989)\tscore: 0.9718232061180238\tstrength: 283\n"
     ]
    }
   ],
   "source": [
    "movieID = 181\n",
    "if (len(sys.argv) > 1):\n",
    "    scoreThreshold = 0.97\n",
    "    coOccurrenceThreshold = 50.0\n",
    "\n",
    "    # Filter for movies with this sim that are \"good\" as defined by our quality thresholds above\n",
    "    filteredResults = moviePairSimilarities.filter(\\\n",
    "        ((func.col(\"movie1\") == movieID) | (func.col(\"movie2\") == movieID)) & \\\n",
    "            (func.col(\"score\") > scoreThreshold) & (func.col(\"numPairs\") > coOccurrenceThreshold)\n",
    "        )\n",
    "    # Sort by quality score\n",
    "    results = filteredResults.sort(func.col(\"score\").desc()).take(10)\n",
    "\n",
    "    print(\"Top 10 Similar movie for \" + getMovieName(moviesNames, movieID))\n",
    "\n",
    "    for result in results:\n",
    "        # Display the similarity result that isn't the movie we're looking at\n",
    "        similarMovieID = result.movie1\n",
    "        if (similarMovieID == movieID):\n",
    "            similarMovieID = result.movie2\n",
    "\n",
    "        print(getMovieName(moviesNames, similarMovieID) + \"\\tscore: \"\\\n",
    "            + str(result.score) + \"\\tstrength: \" + str(result.numPairs))"
   ]
  }
 ],
 "metadata": {
  "interpreter": {
   "hash": "ecac7a151c09b8456edd2abfdaf540e09fdadf88940418019d9e70d1d7653a93"
  },
  "kernelspec": {
   "display_name": "Python 3.9.10 64-bit ('spark_test-8u_MymxW': pipenv)",
   "language": "python",
   "name": "python3"
  },
  "language_info": {
   "codemirror_mode": {
    "name": "ipython",
    "version": 3
   },
   "file_extension": ".py",
   "mimetype": "text/x-python",
   "name": "python",
   "nbconvert_exporter": "python",
   "pygments_lexer": "ipython3",
   "version": "3.9.10"
  },
  "orig_nbformat": 4
 },
 "nbformat": 4,
 "nbformat_minor": 2
}
